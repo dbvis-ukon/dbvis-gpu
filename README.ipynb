{
  "cells": [{
      "cell_type": "markdown",
      "metadata": {},
      "source": [
        "# Start\n",
        "\n",
        "Dear _User_,\n",
        "\n",
        "this ReadMe should prepare you to work with the DBVIS GPU Server.  \n",
        "It is conceived as a guide to using every possibility of the server.\n",
        "\n",
        "# Usage\n",
        "\n",
        "There are two major options to use the server:\n",
        " - Jupyter Notebooks\n",
        " - Terminal Access\n",
        "\n",
        "## Jupyter Notebooks\n",
        "\n",
        "Jupyter Notebooks are built as a Python or R terminal emulation.\n",
        "It enables an easier access to build small programs faster and more efficient.\n",
        "You can create a new one by pressing the New button and select a new Python or R kernel.\n",
        "It is advised to use them as you can test your Python or R code more easily with them and if your development stage is over you can export them as Python or R scripts.\n",
        "\n",
        "## Terminal Access\n",
        "\n",
        "Another option is the built-in terminal and editor of Jupyterhub.\n",
        "You can open nearly every text file with the editor provided by Jupyterhub. This works like a normal desktop environment by either clicking on the file or by creating a new one.\n",
        "Opening a terminal works with New button and then the terminal button.\n",
        "Afterward, you can navigate to your script and run it with the command line.\n",
        "\n",
        "# Advises\n",
        "\n",
        "## Tensorflow 2.0.0 alpha\n",
        "\n"
      ]
    },
    {
      "cell_type": "code",
      "execution_count": null,
      "metadata": {},
      "outputs": [],
      "source": [
        "import tensorflow as tf\n",
        "from tensorflow.keras import backend as K\n",
        "\n",
        "config = tf.compat.v1.ConfigProto()\n",
        "config.gpu_options.allow_growth = True\n",
        "K.set_session(tf.compat.v1.Session(config=config))\n"
      ]
    },
    {
      "cell_type": "markdown",
      "metadata": {},
      "source": [
        "## Tensorflow\n",
        "\n",
        "If you are using Tensorflow or a framework, which runs Tensorflow in the background, it is advised to use:"
      ]
    },
    {
      "cell_type": "code",
      "execution_count": null,
      "metadata": {},
      "outputs": [],
      "source": [
        "import tensorflow as tf\n",
        "config = tf.ConfigProto()\n",
        "config.gpu_options.allow_growth = True\n",
        "session = tf.Session(config=config, ...)"
      ]
    },
    {
      "cell_type": "markdown",
      "metadata": {},
      "source": [
        "or"
      ]
    },
    {
      "cell_type": "code",
      "execution_count": null,
      "metadata": {},
      "outputs": [],
      "source": [
        "from keras import backend as K\n",
        "config = K.tf.ConfigProto()\n",
        "config.gpu_options.allow_growth = True\n",
        "K.set_session(K.tf.Session(config=config))"
      ]
    },
    {
      "cell_type": "markdown",
      "metadata": {},
      "source": [
        "To limit the amount of GPU memory Tensorflow uses.\n",
        "Else Tensorflow will use all available GPU memory, which blocks other users and leads to your process being killed.\n",
        "\n",
        "## Pytorch\n",
        "\n",
        "Use Pytorch. If you don't work with RNNs use Pytorch.\n",
        "\n",
        "\n",
        "# Don'ts\n",
        "\n",
        "- Do not use more space than you need. This means if your data is too large, use the database server to store it. There are enough options to use Python and a database server efficiently.\n",
        "- Do not block all of the available space of the different GPUs. Either block one GPU completely or try to use the allow growth option of tensorflow."
      ]
    },
    {
      "cell_type": "code",
      "execution_count": null,
      "metadata": {},
      "outputs": [],
      "source": []
    }
  ],
  "metadata": {
    "kernelspec": {
      "display_name": "Python 3",
      "language": "python",
      "name": "python3"
    },
    "language_info": {
      "codemirror_mode": {
        "name": "ipython",
        "version": 3
      },
      "file_extension": ".py",
      "mimetype": "text/x-python",
      "name": "python",
      "nbconvert_exporter": "python",
      "pygments_lexer": "ipython3",
      "version": "3.5.2"
    },
    "toc": {
      "base_numbering": 1,
      "nav_menu": {},
      "number_sections": true,
      "sideBar": true,
      "skip_h1_title": false,
      "title_cell": "Table of Contents",
      "title_sidebar": "Contents",
      "toc_cell": false,
      "toc_position": {},
      "toc_section_display": true,
      "toc_window_display": false
    }
  },
  "nbformat": 4,
  "nbformat_minor": 2
}
